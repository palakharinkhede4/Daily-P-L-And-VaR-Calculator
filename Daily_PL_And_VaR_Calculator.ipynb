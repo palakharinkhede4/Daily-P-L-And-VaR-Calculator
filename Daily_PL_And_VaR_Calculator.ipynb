{
  "nbformat": 4,
  "nbformat_minor": 0,
  "metadata": {
    "colab": {
      "provenance": [],
      "authorship_tag": "ABX9TyNT/vz2XoBMJaleI/0gGu3I",
      "include_colab_link": true
    },
    "kernelspec": {
      "name": "python3",
      "display_name": "Python 3"
    },
    "language_info": {
      "name": "python"
    }
  },
  "cells": [
    {
      "cell_type": "markdown",
      "metadata": {
        "id": "view-in-github",
        "colab_type": "text"
      },
      "source": [
        "<a href=\"https://colab.research.google.com/github/palakharinkhede4/Daily-P-L-And-VaR-Calculator/blob/main/Daily_PL_And_VaR_Calculator.ipynb\" target=\"_parent\"><img src=\"https://colab.research.google.com/assets/colab-badge.svg\" alt=\"Open In Colab\"/></a>"
      ]
    },
    {
      "cell_type": "code",
      "execution_count": 3,
      "metadata": {
        "colab": {
          "base_uri": "https://localhost:8080/"
        },
        "id": "vGnbJsTlqa9V",
        "outputId": "08f8193d-b38e-4e46-83af-706aeddf0df0"
      },
      "outputs": [
        {
          "output_type": "stream",
          "name": "stdout",
          "text": [
            "Fetching daily price data for AAPL...\n",
            "Data fetched successfully! ✅\n",
            "\n",
            "Sample of the cleaned data:\n",
            "               open     high     low   close    volume\n",
            "2025-07-24  213.900  215.690  213.53  213.76  46022620\n",
            "2025-07-25  214.700  215.240  213.40  213.88  40268781\n",
            "2025-07-28  214.030  214.845  213.06  214.05  37858017\n",
            "2025-07-29  214.175  214.810  210.82  211.27  51411723\n",
            "2025-07-30  211.895  212.390  207.72  209.05  45512514\n",
            "\n",
            "--- Risk Metrics Report ---\n",
            "📊 Daily P&L for 2025-07-30: -1.05%\n",
            "🔥 95% Historical VaR: -3.63%\n",
            "\n",
            "Interpretation: Based on historical data, we are 95% confident that the maximum loss for AAPL on any given day will not exceed 3.63%.\n"
          ]
        }
      ],
      "source": [
        "# Step 1: Import necessary libraries\n",
        "import requests\n",
        "import pandas as pd\n",
        "import numpy as np\n",
        "from google.colab import userdata # To access secrets in Colab\n",
        "\n",
        "# Step 2: Set up API Key and Stock Ticker\n",
        "api_key = userdata.get('ALPHA_VANTAGE_KEY')\n",
        "stock_ticker = 'AAPL' # Using Apple Inc. as an example\n",
        "\n",
        "# Step 3: Fetch Data from Alpha Vantage API\n",
        "print(f\"Fetching daily price data for {stock_ticker}...\")\n",
        "\n",
        "# CHANGE 1: Switched from TIME_SERIES_DAILY_ADJUSTED to the free TIME_SERIES_DAILY endpoint.\n",
        "url = f'https://www.alphavantage.co/query?function=TIME_SERIES_DAILY&symbol={stock_ticker}&outputsize=full&apikey={api_key}'\n",
        "\n",
        "try:\n",
        "    r = requests.get(url)\n",
        "    r.raise_for_status()\n",
        "    data = r.json()\n",
        "\n",
        "    if \"Time Series (Daily)\" not in data:\n",
        "        raise ValueError(f\"Could not retrieve time series data. API response: {data}\")\n",
        "\n",
        "    df = pd.DataFrame(data['Time Series (Daily)']).T\n",
        "    print(\"Data fetched successfully! ✅\")\n",
        "\n",
        "except requests.exceptions.RequestException as e:\n",
        "    print(f\"Error fetching data from API: {e}\")\n",
        "    raise\n",
        "\n",
        "# Step 4: Data Processing and Cleaning\n",
        "# We no longer need 'adjusted_close'\n",
        "df.rename(columns={\n",
        "    '1. open': 'open',\n",
        "    '2. high': 'high',\n",
        "    '3. low': 'low',\n",
        "    '4. close': 'close',\n",
        "    '5. volume': 'volume'\n",
        "}, inplace=True)\n",
        "\n",
        "# Convert all columns to numeric\n",
        "for col in df.columns:\n",
        "    df[col] = pd.to_numeric(df[col])\n",
        "\n",
        "df.index = pd.to_datetime(df.index)\n",
        "df.sort_index(inplace=True)\n",
        "\n",
        "print(\"\\nSample of the cleaned data:\")\n",
        "print(df.tail())\n",
        "\n",
        "# Step 5: Calculate Daily P&L (as percentage return)\n",
        "# CHANGE 2: Use the 'close' column for calculations.\n",
        "df['daily_pl'] = df['close'].pct_change() * 100 # In percentage terms\n",
        "\n",
        "# Step 6: Calculate 0.95 Historical Value at Risk (VaR)\n",
        "var_95 = np.percentile(df['daily_pl'].dropna(), 5)\n",
        "\n",
        "# Step 7: Display Results\n",
        "print(\"\\n--- Risk Metrics Report ---\")\n",
        "last_pl = df['daily_pl'].iloc[-1]\n",
        "last_date = df.index[-1].strftime('%Y-%m-%d')\n",
        "\n",
        "print(f\"📊 Daily P&L for {last_date}: {last_pl:.2f}%\")\n",
        "print(f\"🔥 95% Historical VaR: {var_95:.2f}%\")\n",
        "print(f\"\\nInterpretation: Based on historical data, we are 95% confident that the maximum loss for {stock_ticker} on any given day will not exceed {-var_95:.2f}%.\")"
      ]
    }
  ]
}